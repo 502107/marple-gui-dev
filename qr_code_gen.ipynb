{
 "cells": [
  {
   "cell_type": "code",
   "execution_count": 3,
   "metadata": {},
   "outputs": [],
   "source": [
    "import os\n",
    "import qrcode\n",
    "from PIL import Image, ImageDraw, ImageFont\n",
    "from datetime import datetime as dt"
   ]
  },
  {
   "cell_type": "code",
   "execution_count": 7,
   "metadata": {},
   "outputs": [],
   "source": [
    "r = qrcode.QRCode(version=3, box_size=20, border=10, error_correction=qrcode.constants.ERROR_CORRECT_H)\n",
    "\n",
    "if not os.path.exists(f'QR_codes/{dt.now().strftime(\"%Y\")}'):\n",
    "    os.makedirs(f'QR_codes/{dt.now().strftime(\"%Y\")}')\n",
    "\n",
    "for i in range(1, 5):\n",
    "    data = f'TEST-M-{dt.now().strftime(\"%Y\")}-{i:04}'\n",
    "    qr.add_data(data)\n",
    "    qr.make(fit=True)\n",
    "    img = qr.make_image(fill_color=\"black\", back_color=\"white\")\n",
    "    \n",
    "    # Create new image with space for text\n",
    "    img_with_text = Image.new('RGB', (img.size[0], img.size[1] + 50), 'white')\n",
    "    img_with_text.paste(img, (0, 0))\n",
    "    \n",
    "    # Draw text\n",
    "    draw = ImageDraw.Draw(img_with_text)\n",
    "    font = ImageFont.load_default()\n",
    "    text_bbox = draw.textbbox((0, 0), data, font=font)\n",
    "    text_width = text_bbox[2] - text_bbox[0]\n",
    "    text_height = text_bbox[3] - text_bbox[1]\n",
    "    text_position = ((img_with_text.size[0] - text_width) // 2, img.size[1] + 10)\n",
    "    draw.text(text_position, data, fill=\"black\", font=font)\n",
    "    \n",
    "    img_with_text.save(f'QR_codes/{dt.now().strftime(\"%Y\")}/qr_code_{dt.now().strftime(\"%Y\")}-{i:04}.png')"
   ]
  }
 ],
 "metadata": {
  "kernelspec": {
   "display_name": "marple-env",
   "language": "python",
   "name": "python3"
  },
  "language_info": {
   "codemirror_mode": {
    "name": "ipython",
    "version": 3
   },
   "file_extension": ".py",
   "mimetype": "text/x-python",
   "name": "python",
   "nbconvert_exporter": "python",
   "pygments_lexer": "ipython3",
   "version": "3.11.9"
  }
 },
 "nbformat": 4,
 "nbformat_minor": 2
}
